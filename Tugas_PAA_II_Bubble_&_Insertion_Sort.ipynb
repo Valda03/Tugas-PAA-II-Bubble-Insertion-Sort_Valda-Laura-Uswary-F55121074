{
  "nbformat": 4,
  "nbformat_minor": 0,
  "metadata": {
    "colab": {
      "provenance": []
    },
    "kernelspec": {
      "name": "python3",
      "display_name": "Python 3"
    },
    "language_info": {
      "name": "python"
    }
  },
  "cells": [
    {
      "cell_type": "markdown",
      "source": [
        "Tugas III PAA II\n",
        "Valda Laura Uswary\n",
        "F55121074\n",
        "TI B"
      ],
      "metadata": {
        "id": "i8Hr5UkWx-5m"
      }
    },
    {
      "cell_type": "markdown",
      "source": [
        "Bubble Sort"
      ],
      "metadata": {
        "id": "m3pvt_fFq5w6"
      }
    },
    {
      "cell_type": "code",
      "source": [
        "import time\n",
        "\n",
        "def bubble_sort(arr):\n",
        "    n = len(arr)\n",
        "    for i in range(n - 1):\n",
        "        swapped = False\n",
        "\n",
        "        start_time = time.time()\n",
        "        for j in range(0, n - i - 1):\n",
        "            if arr[j] > arr[j + 1]:\n",
        "                arr[j], arr[j + 1] = arr[j + 1], arr[j]\n",
        "                swapped = True\n",
        "\n",
        "        end_time = time.time()\n",
        "        execution_time = end_time - start_time\n",
        "\n",
        "        print(\"Iterasi\", i + 1, \":\", arr)\n",
        "        print(\"Waktu komputasinya :\", execution_time, \"detik\")\n",
        "\n",
        "    print(\"Array setelah diurutkan:\", arr)\n",
        "\n",
        "print(\"Algoritma Bubble Sort\")\n",
        "array = [32, 11, 65, 12, 22, 9, 45, 58]\n",
        "print(\"Array sebelum diurutkan:\", array)\n",
        "bubble_sort(array)\n"
      ],
      "metadata": {
        "colab": {
          "base_uri": "https://localhost:8080/"
        },
        "id": "TabO16xxs1me",
        "outputId": "8e5d509e-f3f1-45e1-8a2b-7fb081fcb839"
      },
      "execution_count": null,
      "outputs": [
        {
          "output_type": "stream",
          "name": "stdout",
          "text": [
            "Algoritma Bubble Sort\n",
            "Array sebelum diurutkan: [32, 11, 65, 12, 22, 9, 45, 58]\n",
            "Iterasi 1 : [11, 32, 12, 22, 9, 45, 58, 65]\n",
            "Waktu komputasinya : 4.291534423828125e-06 detik\n",
            "Iterasi 2 : [11, 12, 22, 9, 32, 45, 58, 65]\n",
            "Waktu komputasinya : 4.76837158203125e-06 detik\n",
            "Iterasi 3 : [11, 12, 9, 22, 32, 45, 58, 65]\n",
            "Waktu komputasinya : 3.814697265625e-06 detik\n",
            "Iterasi 4 : [11, 9, 12, 22, 32, 45, 58, 65]\n",
            "Waktu komputasinya : 2.6226043701171875e-06 detik\n",
            "Iterasi 5 : [9, 11, 12, 22, 32, 45, 58, 65]\n",
            "Waktu komputasinya : 1.6689300537109375e-06 detik\n",
            "Iterasi 6 : [9, 11, 12, 22, 32, 45, 58, 65]\n",
            "Waktu komputasinya : 1.6689300537109375e-06 detik\n",
            "Iterasi 7 : [9, 11, 12, 22, 32, 45, 58, 65]\n",
            "Waktu komputasinya : 5.0067901611328125e-06 detik\n",
            "Array setelah diurutkan: [9, 11, 12, 22, 32, 45, 58, 65]\n"
          ]
        }
      ]
    },
    {
      "cell_type": "markdown",
      "source": [
        "Insertion Sort"
      ],
      "metadata": {
        "id": "blY80PGjrS2O"
      }
    },
    {
      "cell_type": "code",
      "source": [
        "import time\n",
        "\n",
        "def insertion_sort(arr):\n",
        "    n = len(arr)\n",
        "    for i in range(1, n):\n",
        "        key = arr[i]\n",
        "        j = i - 1\n",
        "\n",
        "        start_time = time.time()\n",
        "        while j >= 0 and arr[j] > key:\n",
        "            arr[j + 1] = arr[j]\n",
        "            j -= 1\n",
        "\n",
        "        arr[j + 1] = key\n",
        "\n",
        "        end_time = time.time()\n",
        "        execution_time = end_time - start_time\n",
        "\n",
        "        print(\"Iterasi\", i, \":\", arr)\n",
        "        print(\"Waktu komputasi:\", execution_time, \"detik\")\n",
        "\n",
        "    print(\"Array setelah diurutkan:\", arr)\n",
        "\n",
        "print(\"Algoritma Insertion Sort\")\n",
        "array = [32, 11, 65, 12, 22, 9, 45, 58]\n",
        "print(\"Array sebelum diurutkan:\", array)\n",
        "insertion_sort(array)"
      ],
      "metadata": {
        "colab": {
          "base_uri": "https://localhost:8080/"
        },
        "id": "_B32Vj4lrVYA",
        "outputId": "66d3b99d-5e7d-447b-fb67-863b83ff65e3"
      },
      "execution_count": null,
      "outputs": [
        {
          "output_type": "stream",
          "name": "stdout",
          "text": [
            "Algoritma Insertion Sort\n",
            "Array sebelum diurutkan: [32, 11, 65, 12, 22, 9, 45, 58]\n",
            "Iterasi 1 : [11, 32, 65, 12, 22, 9, 45, 58]\n",
            "Waktu komputasi: 1.6689300537109375e-06 detik\n",
            "Iterasi 2 : [11, 32, 65, 12, 22, 9, 45, 58]\n",
            "Waktu komputasi: 1.1920928955078125e-06 detik\n",
            "Iterasi 3 : [11, 12, 32, 65, 22, 9, 45, 58]\n",
            "Waktu komputasi: 1.430511474609375e-06 detik\n",
            "Iterasi 4 : [11, 12, 22, 32, 65, 9, 45, 58]\n",
            "Waktu komputasi: 1.1920928955078125e-06 detik\n",
            "Iterasi 5 : [9, 11, 12, 22, 32, 65, 45, 58]\n",
            "Waktu komputasi: 1.9073486328125e-06 detik\n",
            "Iterasi 6 : [9, 11, 12, 22, 32, 45, 65, 58]\n",
            "Waktu komputasi: 9.5367431640625e-07 detik\n",
            "Iterasi 7 : [9, 11, 12, 22, 32, 45, 58, 65]\n",
            "Waktu komputasi: 7.152557373046875e-07 detik\n",
            "Array setelah diurutkan: [9, 11, 12, 22, 32, 45, 58, 65]\n"
          ]
        }
      ]
    },
    {
      "cell_type": "markdown",
      "source": [
        "Berdasarkan kedua program di atas, dapat disimpulkan bahwa algoritma insertion sort memiliki waktu komputasi yang lebih cepat daripada algoritma bubble sort pada tiap iterasinya untuk permasalahan yang sama. Sehingga algorita insertion sort lebih optimal digunakan dibandingkan algoritma bubble sort"
      ],
      "metadata": {
        "id": "fSdHjn3wxftM"
      }
    }
  ]
}